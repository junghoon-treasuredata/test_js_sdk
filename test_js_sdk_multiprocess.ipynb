{
 "cells": [
  {
   "cell_type": "code",
   "execution_count": 1,
   "metadata": {},
   "outputs": [],
   "source": [
    "from selenium import webdriver\n",
    "from selenium.webdriver.common.keys import Keys\n",
    "from bs4 import BeautifulSoup\n",
    "import time"
   ]
  },
  {
   "cell_type": "code",
   "execution_count": 19,
   "metadata": {},
   "outputs": [],
   "source": [
    "driver = webdriver.Chrome()"
   ]
  },
  {
   "cell_type": "code",
   "execution_count": 20,
   "metadata": {},
   "outputs": [],
   "source": [
    "test_url = \"\"\n",
    "driver.get(test_url);"
   ]
  },
  {
   "cell_type": "code",
   "execution_count": 4,
   "metadata": {},
   "outputs": [],
   "source": [
    "driver.refresh();"
   ]
  },
  {
   "cell_type": "code",
   "execution_count": 5,
   "metadata": {},
   "outputs": [
    {
     "name": "stdout",
     "output_type": "stream",
     "text": [
      "timestamp = 1581591137.059474\n"
     ]
    }
   ],
   "source": [
    "from datetime import datetime\n",
    "# current date and time\n",
    "now = datetime.now()\n",
    "timestamp = datetime.timestamp(now)\n",
    "print(\"timestamp =\", timestamp)"
   ]
  },
  {
   "cell_type": "code",
   "execution_count": 22,
   "metadata": {},
   "outputs": [],
   "source": [
    "def test_refresh(browser, iNum):\n",
    "    start = datetime.now()\n",
    "    count = 0\n",
    "    for _ in range(iNum):\n",
    "        browser.refresh();\n",
    "        count += 1\n",
    "#         time.sleep(0.5)\n",
    "\n",
    "    end = datetime.now()\n",
    "    gap = end - start\n",
    "    print(\"count : \", count, \"gap : \", gap)\n",
    "    "
   ]
  },
  {
   "cell_type": "markdown",
   "metadata": {},
   "source": [
    "<h1> Test with 1 browser </h1>"
   ]
  },
  {
   "cell_type": "code",
   "execution_count": 25,
   "metadata": {},
   "outputs": [
    {
     "name": "stdout",
     "output_type": "stream",
     "text": [
      "count :  1000 gap :  0:01:13.416244\n"
     ]
    }
   ],
   "source": [
    "test_refresh(driver,1000)"
   ]
  },
  {
   "cell_type": "markdown",
   "metadata": {},
   "source": [
    "<h1>Test with 10 browsers</h1>"
   ]
  },
  {
   "cell_type": "code",
   "execution_count": 8,
   "metadata": {},
   "outputs": [],
   "source": [
    "listDriver = []\n",
    "for _ in range(10):\n",
    "    driver = webdriver.Chrome()\n",
    "    driver.get(test_url);\n",
    "    listDriver.append(driver)"
   ]
  },
  {
   "cell_type": "markdown",
   "metadata": {},
   "source": [
    "multiprocessing"
   ]
  },
  {
   "cell_type": "code",
   "execution_count": 18,
   "metadata": {},
   "outputs": [
    {
     "name": "stdout",
     "output_type": "stream",
     "text": [
      "count :  100 gap :  0:01:05.153916\n",
      "count :  100 gap :  0:01:05.363018\n",
      "count :  100 gap :  0:01:05.468172\n",
      "count :  100 gap :  0:01:05.596068\n",
      "count :  100 gap :  0:01:05.769285\n",
      "count :  100 gap :  0:01:05.928999\n",
      "count :  100 gap :  0:01:06.855964\n",
      "count :  100 gap :  0:01:06.926519\n",
      "count :  100 gap :  0:01:06.957641\n",
      "count :  100 gap :  0:01:07.655762\n",
      "total elapse :  0:01:07.680515\n"
     ]
    }
   ],
   "source": [
    "import multiprocessing\n",
    "\n",
    "process = []\n",
    "start = datetime.now()\n",
    "\n",
    "for i in range(10):\n",
    "    p = multiprocessing.Process(target=test_refresh, args=(listDriver[i],100))\n",
    "    process.append(p)\n",
    "    p.start()\n",
    "\n",
    "for p in process:\n",
    "    p.join()\n",
    "    \n",
    "end = datetime.now()\n",
    "elapse = end - start\n",
    "print(\"total elapse : \", elapse)"
   ]
  },
  {
   "cell_type": "code",
   "execution_count": null,
   "metadata": {},
   "outputs": [],
   "source": []
  }
 ],
 "metadata": {
  "kernelspec": {
   "display_name": "env_mk",
   "language": "python",
   "name": "env_mk"
  },
  "language_info": {
   "codemirror_mode": {
    "name": "ipython",
    "version": 3
   },
   "file_extension": ".py",
   "mimetype": "text/x-python",
   "name": "python",
   "nbconvert_exporter": "python",
   "pygments_lexer": "ipython3",
   "version": "3.7.4"
  }
 },
 "nbformat": 4,
 "nbformat_minor": 4
}
